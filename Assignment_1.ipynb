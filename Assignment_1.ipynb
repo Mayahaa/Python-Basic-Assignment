{
 "cells": [
  {
   "cell_type": "code",
   "execution_count": null,
   "id": "79d84933",
   "metadata": {},
   "outputs": [],
   "source": [
    "1.\"\"\"1.Expression\n",
    "string\n",
    "integer\n",
    "expression\n",
    "Expression\n",
    "Expression\n",
    "Expression\"\"\""
   ]
  },
  {
   "cell_type": "code",
   "execution_count": null,
   "id": "2dffc707",
   "metadata": {},
   "outputs": [],
   "source": [
    "2.string is written in \"\" or ''. they are immutable\n",
    "variable is an entity which holds data"
   ]
  },
  {
   "cell_type": "code",
   "execution_count": null,
   "id": "18cb1f0e",
   "metadata": {},
   "outputs": [],
   "source": [
    "3.int\n",
    "str\n",
    "float"
   ]
  },
  {
   "cell_type": "code",
   "execution_count": 7,
   "id": "159dcfce",
   "metadata": {},
   "outputs": [],
   "source": [
    "#4.Expressions are mathematical operators which perform mathematical operations"
   ]
  },
  {
   "cell_type": "code",
   "execution_count": 8,
   "id": "a420cd47",
   "metadata": {},
   "outputs": [],
   "source": [
    "#5.Expression is a combination of minimum 2 terms (numbers or variables) connected by an operator\n",
    "#A statement is an instruction"
   ]
  },
  {
   "cell_type": "code",
   "execution_count": 9,
   "id": "446dffc9",
   "metadata": {},
   "outputs": [
    {
     "data": {
      "text/plain": [
       "23"
      ]
     },
     "execution_count": 9,
     "metadata": {},
     "output_type": "execute_result"
    }
   ],
   "source": [
    "6.bacon=22\n",
    "bacon+1"
   ]
  },
  {
   "cell_type": "code",
   "execution_count": 10,
   "id": "1316cfa7",
   "metadata": {},
   "outputs": [
    {
     "data": {
      "text/plain": [
       "'spamspamspam'"
      ]
     },
     "execution_count": 10,
     "metadata": {},
     "output_type": "execute_result"
    }
   ],
   "source": [
    "7.\"spam\"+\"spamspam\""
   ]
  },
  {
   "cell_type": "code",
   "execution_count": 11,
   "id": "cdbdfa0e",
   "metadata": {},
   "outputs": [
    {
     "data": {
      "text/plain": [
       "'spamspamspam'"
      ]
     },
     "execution_count": 11,
     "metadata": {},
     "output_type": "execute_result"
    }
   ],
   "source": [
    "7.'spam'*3"
   ]
  },
  {
   "cell_type": "code",
   "execution_count": 12,
   "id": "75537b33",
   "metadata": {},
   "outputs": [],
   "source": [
    "#8.variable cannot be an integer"
   ]
  },
  {
   "cell_type": "code",
   "execution_count": null,
   "id": "a63a0be3",
   "metadata": {},
   "outputs": [],
   "source": [
    "9.int()\n",
    "float()\n",
    "str()"
   ]
  },
  {
   "cell_type": "code",
   "execution_count": 13,
   "id": "a56b5233",
   "metadata": {},
   "outputs": [
    {
     "data": {
      "text/plain": [
       "'i have eaten99burritos'"
      ]
     },
     "execution_count": 13,
     "metadata": {},
     "output_type": "execute_result"
    }
   ],
   "source": [
    "'i have eaten'+'99'+'burritos'#heterogeneous has to be converted into homogeneous"
   ]
  },
  {
   "cell_type": "code",
   "execution_count": null,
   "id": "df1c06d6",
   "metadata": {},
   "outputs": [],
   "source": []
  }
 ],
 "metadata": {
  "kernelspec": {
   "display_name": "Python 3 (ipykernel)",
   "language": "python",
   "name": "python3"
  },
  "language_info": {
   "codemirror_mode": {
    "name": "ipython",
    "version": 3
   },
   "file_extension": ".py",
   "mimetype": "text/x-python",
   "name": "python",
   "nbconvert_exporter": "python",
   "pygments_lexer": "ipython3",
   "version": "3.9.7"
  }
 },
 "nbformat": 4,
 "nbformat_minor": 5
}
