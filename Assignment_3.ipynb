{
 "cells": [
  {
   "cell_type": "code",
   "execution_count": 1,
   "id": "95e4cce2",
   "metadata": {},
   "outputs": [],
   "source": [
    "#1.Functions always increases the reusability of the code"
   ]
  },
  {
   "cell_type": "code",
   "execution_count": 2,
   "id": "f593263e",
   "metadata": {},
   "outputs": [],
   "source": [
    "#2.when it is called"
   ]
  },
  {
   "cell_type": "code",
   "execution_count": 3,
   "id": "2516df0d",
   "metadata": {},
   "outputs": [],
   "source": [
    "#3.def():"
   ]
  },
  {
   "cell_type": "code",
   "execution_count": 5,
   "id": "5e919e43",
   "metadata": {},
   "outputs": [],
   "source": [
    "def test():\n",
    "    return 2*3\n",
    "#this is function"
   ]
  },
  {
   "cell_type": "code",
   "execution_count": 7,
   "id": "c23750e5",
   "metadata": {},
   "outputs": [
    {
     "data": {
      "text/plain": [
       "6"
      ]
     },
     "execution_count": 7,
     "metadata": {},
     "output_type": "execute_result"
    }
   ],
   "source": [
    "test()\n",
    "#this is function call"
   ]
  },
  {
   "cell_type": "code",
   "execution_count": 8,
   "id": "82ad3cb9",
   "metadata": {},
   "outputs": [],
   "source": [
    "a=10 # global declaration\n",
    "def test1(b,c):\n",
    "    b=3 # local representation\n",
    "    return b*c"
   ]
  },
  {
   "cell_type": "code",
   "execution_count": 10,
   "id": "fe348aa5",
   "metadata": {},
   "outputs": [],
   "source": [
    "#only one global and one local scopes are there in python program"
   ]
  },
  {
   "cell_type": "code",
   "execution_count": 11,
   "id": "903504f8",
   "metadata": {},
   "outputs": [],
   "source": [
    "#6.when a function calls returns by default local values will be taken into consideration"
   ]
  },
  {
   "cell_type": "code",
   "execution_count": 12,
   "id": "a8c4cb8e",
   "metadata": {},
   "outputs": [],
   "source": [
    "#7.return values returns all the primitive data types"
   ]
  },
  {
   "cell_type": "code",
   "execution_count": 13,
   "id": "be666255",
   "metadata": {},
   "outputs": [],
   "source": [
    "def test():\n",
    "    return 2*3"
   ]
  },
  {
   "cell_type": "code",
   "execution_count": 14,
   "id": "d8470722",
   "metadata": {},
   "outputs": [
    {
     "data": {
      "text/plain": [
       "6"
      ]
     },
     "execution_count": 14,
     "metadata": {},
     "output_type": "execute_result"
    }
   ],
   "source": [
    "test()"
   ]
  },
  {
   "cell_type": "code",
   "execution_count": 15,
   "id": "1b5504d8",
   "metadata": {},
   "outputs": [],
   "source": [
    "def test2():\n",
    "    print(4+5)"
   ]
  },
  {
   "cell_type": "code",
   "execution_count": 16,
   "id": "a871b1f5",
   "metadata": {},
   "outputs": [
    {
     "name": "stdout",
     "output_type": "stream",
     "text": [
      "9\n"
     ]
    }
   ],
   "source": [
    "test2()"
   ]
  },
  {
   "cell_type": "code",
   "execution_count": 17,
   "id": "94e60d5a",
   "metadata": {},
   "outputs": [
    {
     "name": "stdout",
     "output_type": "stream",
     "text": [
      "9\n"
     ]
    },
    {
     "data": {
      "text/plain": [
       "NoneType"
      ]
     },
     "execution_count": 17,
     "metadata": {},
     "output_type": "execute_result"
    }
   ],
   "source": [
    "type(test2())"
   ]
  },
  {
   "cell_type": "code",
   "execution_count": 18,
   "id": "e74e29eb",
   "metadata": {},
   "outputs": [],
   "source": [
    "#8.if a return statement is not there, it does not return anything although u call it"
   ]
  },
  {
   "cell_type": "code",
   "execution_count": 33,
   "id": "640afbc1",
   "metadata": {},
   "outputs": [],
   "source": [
    "a=10\n",
    "def test16(c,d):\n",
    "    a=5\n",
    "    return c*d"
   ]
  },
  {
   "cell_type": "code",
   "execution_count": 34,
   "id": "29ba51fb",
   "metadata": {},
   "outputs": [
    {
     "data": {
      "text/plain": [
       "500"
      ]
     },
     "execution_count": 34,
     "metadata": {},
     "output_type": "execute_result"
    }
   ],
   "source": [
    "test16(a,50)"
   ]
  },
  {
   "cell_type": "code",
   "execution_count": 35,
   "id": "79e43a01",
   "metadata": {},
   "outputs": [],
   "source": [
    "#10.None is a data type of its own (nonetype), print returns nonetype"
   ]
  },
  {
   "cell_type": "code",
   "execution_count": 38,
   "id": "5a9f558e",
   "metadata": {},
   "outputs": [],
   "source": [
    "#13.we write code by using try and except block"
   ]
  },
  {
   "cell_type": "code",
   "execution_count": 39,
   "id": "5b779565",
   "metadata": {},
   "outputs": [],
   "source": [
    "#14.In order to save a programme from crashing, we write code in try block and we use exception to know what kind of error the code has"
   ]
  },
  {
   "cell_type": "code",
   "execution_count": null,
   "id": "3494c268",
   "metadata": {},
   "outputs": [],
   "source": []
  }
 ],
 "metadata": {
  "kernelspec": {
   "display_name": "Python 3 (ipykernel)",
   "language": "python",
   "name": "python3"
  },
  "language_info": {
   "codemirror_mode": {
    "name": "ipython",
    "version": 3
   },
   "file_extension": ".py",
   "mimetype": "text/x-python",
   "name": "python",
   "nbconvert_exporter": "python",
   "pygments_lexer": "ipython3",
   "version": "3.9.7"
  }
 },
 "nbformat": 4,
 "nbformat_minor": 5
}
